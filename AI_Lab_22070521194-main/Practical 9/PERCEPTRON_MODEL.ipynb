{
  "nbformat": 4,
  "nbformat_minor": 0,
  "metadata": {
    "colab": {
      "provenance": []
    },
    "kernelspec": {
      "name": "python3",
      "display_name": "Python 3"
    },
    "language_info": {
      "name": "python"
    }
  },
  "cells": [
    {
      "cell_type": "code",
      "execution_count": 7,
      "metadata": {
        "colab": {
          "base_uri": "https://localhost:8080/"
        },
        "id": "qheQiwmeWseM",
        "outputId": "1f975002-e4d0-4085-96f5-fddc77b5d8b4"
      },
      "outputs": [
        {
          "output_type": "stream",
          "name": "stdout",
          "text": [
            "Robot Position: [1, 2]\n",
            "Goal Position: [3, 2]\n",
            "Predicted Move: RIGHT\n"
          ]
        }
      ],
      "source": [
        "from sklearn.linear_model import Perceptron\n",
        "import numpy as np\n",
        "\n",
        "# Direction encoding and decoding\n",
        "directions = {\"UP\": 0, \"DOWN\": 1, \"LEFT\": 2, \"RIGHT\": 3}\n",
        "rev_directions = {v: k for k, v in directions.items()}\n",
        "\n",
        "# Generate training data (robot_x, robot_y, goal_x, goal_y) -> best move\n",
        "X = []\n",
        "y = []\n",
        "\n",
        "for _ in range(300):\n",
        "    rx = np.random.randint(0, 5)\n",
        "    ry = np.random.randint(0, 5)\n",
        "    gx = np.random.randint(0, 5)\n",
        "    gy = np.random.randint(0, 5)\n",
        "\n",
        "    # Skip if robot is already at goal\n",
        "    if rx == gx and ry == gy:\n",
        "        continue\n",
        "\n",
        "    # Decide ideal move direction\n",
        "    if abs(gx - rx) > abs(gy - ry):\n",
        "        direction = \"RIGHT\" if gx > rx else \"LEFT\"\n",
        "    else:\n",
        "        direction = \"DOWN\" if gy > ry else \"UP\"\n",
        "\n",
        "    X.append([rx, ry, gx, gy])\n",
        "    y.append(directions[direction])\n",
        "\n",
        "# Convert to numpy arrays\n",
        "X = np.array(X)\n",
        "y = np.array(y)\n",
        "\n",
        "# Train Perceptron Model (multi-class classification)\n",
        "model = Perceptron(max_iter=1000)\n",
        "model.fit(X, y)\n",
        "\n",
        "# Test example\n",
        "test_position = [1, 2, 3, 2]  # Robot at (1,2), Goal at (3,2)\n",
        "predicted_class = model.predict([test_position])[0]\n",
        "predicted_direction = rev_directions[predicted_class]\n",
        "\n",
        "print(\"Robot Position:\", test_position[:2])\n",
        "print(\"Goal Position:\", test_position[2:])\n",
        "print(\"Predicted Move:\", predicted_direction)\n"
      ]
    }
  ]
}